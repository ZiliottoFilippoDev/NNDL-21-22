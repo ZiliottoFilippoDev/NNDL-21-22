{
 "cells": [
  {
   "cell_type": "code",
   "execution_count": 25,
   "metadata": {},
   "outputs": [],
   "source": [
    "import numpy as np\n",
    "import matplotlib.pyplot as plt\n",
    "import torch\n",
    "import torch.nn as nn\n",
    "import torch.optim as optim\n",
    "from torch.utils.data import Dataset, DataLoader\n",
    "from torchvision import transforms\n",
    "import torchvision\n",
    "from tqdm import tqdm \n",
    "from sklearn.metrics import confusion_matrix\n",
    "import seaborn as sns\n",
    "#from Pytorchtools import EarlyStopping\n",
    "from sklearn.model_selection import KFold\n",
    "import optuna\n",
    "from optuna.integration import PyTorchLightningPruningCallback\n",
    "from optuna.pruners import PercentilePruner\n",
    "import pytorch_lightning as pl\n",
    "from torch.nn import functional as F\n",
    "from sklearn.model_selection import KFold\n",
    "from optuna.visualization import plot_contour\n",
    "from optuna.visualization import plot_edf\n",
    "from optuna.visualization import plot_intermediate_values\n",
    "from optuna.visualization import plot_optimization_history\n",
    "from optuna.visualization import plot_parallel_coordinate\n",
    "from optuna.visualization import plot_param_importances\n",
    "from optuna.visualization import plot_slice\n",
    "%matplotlib inline\n",
    "%config InlineBackend.figure_format='retina'"
   ]
  },
  {
   "cell_type": "code",
   "execution_count": 2,
   "metadata": {},
   "outputs": [
    {
     "name": "stdout",
     "output_type": "stream",
     "text": [
      "Training device: cpu\n"
     ]
    }
   ],
   "source": [
    "# Check if the GPU is available\n",
    "device = torch.device(\"cuda\") if torch.cuda.is_available() else torch.device(\"cpu\")\n",
    "print(f\"Training device: {device}\")"
   ]
  },
  {
   "cell_type": "markdown",
   "metadata": {
    "id": "SxW5QfJRvWV9"
   },
   "source": [
    "# Classification task"
   ]
  },
  {
   "cell_type": "markdown",
   "metadata": {
    "id": "cPTFyWeOyiR-"
   },
   "source": [
    "## Guidelines"
   ]
  },
  {
   "cell_type": "markdown",
   "metadata": {
    "id": "m8E-82AGylxj"
   },
   "source": [
    "* The goal is to train a neural network that maps an input image (from fashionMNIST) to one of ten classes (multi-class classification problem with mutually exclusive classes).\n",
    "* Define a proper loss (e.g. [torch.nn.CrossEntropyLoss](https://pytorch.org/docs/stable/generated/torch.nn.CrossEntropyLoss.html#torch.nn.CrossEntropyLoss))\n",
    "* Also here, consider to create a validation set from you training data, or use a k-fold cross-validation strategy.\n",
    "* Pay attention to the shape, data type and output values range. If needed, modify them accordingly to your implementation (read carefully the documentation of the layers that you use, e.g. [torch.nn.Conv2d](https://pytorch.org/docs/stable/generated/torch.nn.Conv2d.html)).\n",
    "* Explore different optimizers, acivation functions, network architectures. Analyze the effect of different regularization methods, such as dropout layers, random transformations (image rotation, scaling, add noise...) or L2 regularization (weight decay)."
   ]
  },
  {
   "cell_type": "code",
   "execution_count": 4,
   "metadata": {},
   "outputs": [
    {
     "name": "stdout",
     "output_type": "stream",
     "text": [
      "SAMPLE AT INDEX 0\n",
      "LABEL: 9\n"
     ]
    },
    {
     "data": {
      "image/png": "[encoded data removed]",
      "text/plain": [
       "<Figure size 576x576 with 1 Axes>"
      ]
     },
     "metadata": {
      "needs_background": "light"
     },
     "output_type": "display_data"
    }
   ],
   "source": [
    "sample_index = 0\n",
    "image = train_dataset[sample_index][0]\n",
    "label = train_dataset[sample_index][1]\n",
    "\n",
    "fig = plt.figure(figsize=(8,8))\n",
    "plt.imshow(image, cmap='Greys')\n",
    "print(f\"SAMPLE AT INDEX {sample_index}\")\n",
    "print(f\"LABEL: {label}\")"
   ]
  },
  {
   "cell_type": "code",
   "execution_count": 5,
   "metadata": {},
   "outputs": [
    {
     "name": "stdout",
     "output_type": "stream",
     "text": [
      "Numpy array shape: (28, 28)\n",
      "Numpy array type: uint8\n"
     ]
    }
   ],
   "source": [
    "image_numpy = np.array(image)\n",
    "\n",
    "print(f'Numpy array shape: {image_numpy.shape}')\n",
    "print(f'Numpy array type: {image_numpy.dtype}')"
   ]
  },
  {
   "cell_type": "code",
   "execution_count": 6,
   "metadata": {},
   "outputs": [
    {
     "name": "stdout",
     "output_type": "stream",
     "text": [
      "PyTorch tensor shape: torch.Size([1, 28, 28])\n",
      "PyTorch tensor type: torch.float32\n"
     ]
    }
   ],
   "source": [
    "to_tensor = torchvision.transforms.ToTensor()\n",
    "image_tensor = to_tensor(image)\n",
    "\n",
    "print(f'PyTorch tensor shape: {image_tensor.shape}')\n",
    "print(f'PyTorch tensor type: {image_tensor.dtype}')"
   ]
  },
  {
   "cell_type": "markdown",
   "metadata": {},
   "source": [
    "## Classification Model "
   ]
  },
  {
   "cell_type": "markdown",
   "metadata": {},
   "source": [
    "- Data Augmentation or modification to avoid overfitting and better generalization\n",
    "- Create training/validation/test and load into Pytorch\n",
    "- In this case this cells have been runned with the already calculated near to optimal paramaters"
   ]
  },
  {
   "cell_type": "code",
   "execution_count": 3,
   "metadata": {},
   "outputs": [],
   "source": [
    "train_transform = transforms.Compose([\n",
    "  transforms.ToTensor(),\n",
    "  transforms.RandomHorizontalFlip(p=0.1),\n",
    "  transforms.Normalize((0.1307,), (0.3081,)),\n",
    "  # transforms.RandomRotation(degrees=(0, 180)),]), p=0.1),\n",
    "  transforms.RandomApply(torch.nn.ModuleList([transforms.GaussianBlur(kernel_size=(5, 9), sigma=(0.1, 2.0))]), p=0.3)\n",
    "])\n",
    "\n",
    "test_transform = transforms.Compose([\n",
    "  transforms.ToTensor(),\n",
    "  transforms.Normalize((0.1307,), (0.3081,))\n",
    "  #transforms.RandomVerticalFlip(p=0.1)\n",
    "])"
   ]
  },
  {
   "cell_type": "code",
   "execution_count": 67,
   "metadata": {},
   "outputs": [],
   "source": [
    "train_dataset = torchvision.datasets.FashionMNIST('classifier_data', train=True,\n",
    "                                                  download=True, transform=train_transform)\n",
    "\n",
    "test_dataset  = torchvision.datasets.FashionMNIST('classifier_data', train=False,\n",
    "                                                  download=True, transform=test_transform)"
   ]
  },
  {
   "cell_type": "code",
   "execution_count": 5,
   "metadata": {},
   "outputs": [],
   "source": [
    "train_size = int(0.8 * len(train_dataset)) #80% for the training 20% for the validation\n",
    "val_size = len(train_dataset) - train_size\n",
    "train_dataset, val_dataset = torch.utils.data.random_split(train_dataset, [train_size, val_size])"
   ]
  },
  {
   "cell_type": "code",
   "execution_count": 6,
   "metadata": {},
   "outputs": [
    {
     "name": "stdout",
     "output_type": "stream",
     "text": [
      "Train size: 48000\n",
      "Val size: 12000\n",
      "Test size: 10000\n"
     ]
    }
   ],
   "source": [
    "print('Train size:',len(train_dataset))\n",
    "print('Val size:',len(val_dataset))\n",
    "print('Test size:',len(test_dataset))"
   ]
  },
  {
   "cell_type": "code",
   "execution_count": 7,
   "metadata": {},
   "outputs": [],
   "source": [
    "batch_size = 64\n",
    "\n",
    "train_dataloader = DataLoader(train_dataset, batch_size=batch_size, shuffle=True)\n",
    "val_dataloader = DataLoader(val_dataset, batch_size=batch_size, shuffle=True)\n",
    "test_dataloader = DataLoader(test_dataset, batch_size=1, shuffle=False)"
   ]
  },
  {
   "cell_type": "markdown",
   "metadata": {},
   "source": [
    "Defining the Architecture"
   ]
  },
  {
   "cell_type": "code",
   "execution_count": 8,
   "metadata": {},
   "outputs": [],
   "source": [
    "class Network(nn.Module):\n",
    "    def __init__(self, n_channels = 1 , dropout = 0.):\n",
    "        '''\n",
    "        - 1 Convolutional layer + stride\n",
    "        - 1 Convolutional layer + stride\n",
    "        - Flattening\n",
    "        - 1 Dense layer + Dropout \n",
    "        - 1 Dense layer (10 units) -> OUTPUT\n",
    "        ======================================================\n",
    "        INPUT\n",
    "         - drop (float)    : probability of dropout for the two dense layers\n",
    "         - n_channels(int) : number of output channels of the first layer\n",
    "        ======================================================\n",
    "        '''\n",
    "        super().__init__()\n",
    "\n",
    "        self.batch_size = n_channels\n",
    "        flatten_dim = (2*n_channels)*5*5\n",
    "\n",
    "        #Network architecture related code\n",
    "        #in order to reduce halve the dimensionality, the stride parameter is 2\n",
    "        # ---> img size 28x28 -> 14x14\n",
    "        self.conv1 = nn.Conv2d(in_channels = 1,  out_channels = n_channels, kernel_size = 4, padding=1, stride = 2)\n",
    "        #self.batch1 = nn.BathNorm2d()\n",
    "        self.conv2 = nn.Conv2d(in_channels = n_channels, out_channels = 2*n_channels, kernel_size=5, stride = 2)\n",
    "        #self.batch2 = nn.BathNorm2d()\n",
    "\n",
    "        #fully connected layers\n",
    "        self.fc1 = nn.Linear(flatten_dim, 128)\n",
    "        self.out = nn.Linear(128, 10)\n",
    "        \n",
    "        #Activation function related code \n",
    "        self.relu  = nn.ReLU()\n",
    "\n",
    "        #Dropout related code\n",
    "        self.drop = nn.Dropout(p = dropout)\n",
    "        \n",
    "        #print(\"Network initialized!\")\n",
    "\n",
    "\n",
    "    def forward(self, x, additional_out=False):\n",
    "        x = self.relu(self.conv1(x))\n",
    "        x = self.relu(self.conv2(x))\n",
    "        x = x.view(x.size(0), -1)\n",
    "        x = self.relu(self.drop(self.fc1(x)))\n",
    "        x = self.out(x)\n",
    "\n",
    "        return x\n",
    "\n",
    "    def train_epoch(self, train_dataloader, loss_function, optimizer, device):\n",
    "        '''\n",
    "        Train the network (self) using as input eventual batches from train_data_loader,\n",
    "        having chosen the loss_function and the optimizer\n",
    "        it returns:\n",
    "        - the mean loss over batches\n",
    "        - the standard deviation loss over batches\n",
    "        '''\n",
    "        #enable training mode\n",
    "        self.train()\n",
    "        ### TRAIN\n",
    "        train_loss = []\n",
    "        for i_batch, sample_batched in enumerate(train_dataloader):\n",
    "\n",
    "            #divide the batch into values and labels\n",
    "            x_batch = sample_batched[0].to(device)\n",
    "            label_batch = sample_batched[1].to(device)\n",
    "\n",
    "            #Forward pass\n",
    "            out = self.forward(x_batch)\n",
    "\n",
    "            # Compute loss\n",
    "            loss = loss_function(out, label_batch)\n",
    "\n",
    "            # Backpropagation\n",
    "            self.zero_grad()\n",
    "            loss.backward()\n",
    "\n",
    "            # Update the weights\n",
    "            optimizer.step()\n",
    "\n",
    "            # Save train loss for this batch\n",
    "            loss_batch = loss.detach().cpu().numpy()\n",
    "            train_loss.append(loss_batch)\n",
    "            \n",
    "\n",
    "        # Save average train loss\n",
    "        train_loss_mean = np.mean(train_loss)\n",
    "        train_loss_std  = np.std(train_loss)\n",
    "        \n",
    "\n",
    "        return train_loss_mean, train_loss_std\n",
    "    \n",
    "    def val_epoch(self, val_dataloader, loss_function, optimizer, device):\n",
    "        '''\n",
    "        Evaulate the performance of network (self)\n",
    "        using as input the validation set,\n",
    "        having chosen the loss_function and the optimizer\n",
    "        it returns:\n",
    "        - the mean loss over batches\n",
    "        - the standard deviation loss over batches\n",
    "        '''\n",
    "        #enable training mode\n",
    "        self.eval()\n",
    "        val_loss = []\n",
    "        \n",
    "        with torch.no_grad(): # Disable gradient tracking\n",
    "            for i_batch, sample_batched in enumerate(val_dataloader):\n",
    "                #divide the batch into values and labels\n",
    "                x_batch = sample_batched[0].to(device)\n",
    "                label_batch = sample_batched[1].to(device)\n",
    "\n",
    "                #Forward pass\n",
    "                out = self.forward(x_batch)\n",
    "                \n",
    "                #No backpropagation for validation\n",
    "\n",
    "                # Compute loss\n",
    "                loss = loss_function(out, label_batch)\n",
    "                # Save train loss for this batch\n",
    "                loss_batch = loss.detach().cpu().numpy()\n",
    "                val_loss.append(loss_batch)\n",
    "\n",
    "        # Save average val loss\n",
    "        val_loss_mean = np.mean(val_loss)\n",
    "        val_loss_std  = np.std(val_loss)\n",
    "\n",
    "        return val_loss_mean, val_loss_std\n",
    "\n",
    "    def test(self, test_dataloader, params_dict):\n",
    "        '''\n",
    "        Test the network in a classification task\n",
    "        '''\n",
    "        wrong_label = 0\n",
    "        predictions = []\n",
    "        true_labels = []\n",
    "\n",
    "        self.eval()\n",
    "        device = params_dict.get('device')\n",
    "        # Disable gradient tracking\n",
    "        with torch.no_grad():\n",
    "            for sample_batched in test_dataloader:\n",
    "                #divide the batch into values and labels\n",
    "                x_batch = sample_batched[0].to(device)\n",
    "                label_batch = sample_batched[1].to(device)\n",
    "\n",
    "                #Forward pass\n",
    "                out = self.forward(x_batch)\n",
    "                out = out.cpu().numpy().argmax()\n",
    "\n",
    "                predictions.append(out)\n",
    "                true_labels.append(label_batch)\n",
    "                \n",
    "        num_samples = len(test_dataloader)\n",
    "        temp_list = [predictions[i]-true_labels[i] for i in range(num_samples)]\n",
    "        #\"zero\" elements are the correct ones\n",
    "        accuracy = temp_list.count(0)/num_samples\n",
    "        return accuracy\n",
    "    \n",
    "    def predict(self,data_input, device):\n",
    "        '''\n",
    "        Compute an array of predicted labels given input data\n",
    "        '''\n",
    "        #set evaluation mode\n",
    "        self.eval()\n",
    "        predictions_list = []\n",
    "\n",
    "        #disable gradient computing/tracking\n",
    "        with torch.no_grad():\n",
    "            for i_batch, sample_batched in enumerate(data_input):\n",
    "                x_batch = sample_batched[0].to(device) \n",
    "                #Forward pass\n",
    "                out = self.forward(x_batch)\n",
    "                outputs = out.cpu().numpy().argmax()\n",
    "\n",
    "                predictions_list.append(outputs)\n",
    "        return np.array(predictions_list)\n",
    "    \n",
    "        #save the network state onto a path passed as input\n",
    "    def save_net(self, path: str):\n",
    "        torch.save( self.state_dict(), path )\n",
    "    \n",
    "    #retrieve the network state from a path passed as input\n",
    "    def load_net(self, path: str):\n",
    "        self.load_state_dict( torch.load(path) )\n",
    "        \n",
    "    def fit(self, train_data, val_data, params_dict, loss_fn, plot = False):\n",
    "        train_loss_means = []\n",
    "        val_loss_means = []\n",
    "\n",
    "        train_loss_std = []\n",
    "        val_loss_std = []\n",
    "\n",
    "        optimizer = params_dict.get('optimizer')\n",
    "        scheduler = optim.lr_scheduler.StepLR(optimizer, step_size=5, gamma=0.1)\n",
    "        device = params_dict.get('device')\n",
    "\n",
    "        for epoch in tqdm(range(params_dict.get('n_epochs'))):\n",
    "            loss_mean, loss_std =  self.train_epoch(train_data, loss_fn, optimizer, device)\n",
    "            train_loss_means.append(loss_mean)\n",
    "            train_loss_std.append(loss_std)\n",
    "\n",
    "            loss_mean, loss_std =  self.val_epoch(val_data, loss_fn, optimizer, device)\n",
    "            val_loss_means.append(loss_mean)\n",
    "            val_loss_std.append(loss_std)\n",
    "            \n",
    "            scheduler.step() #updating the learning rate\n",
    "\n",
    "        train_metrics = np.array([np.array(train_loss_means), np.array(train_loss_std)])\n",
    "        val_metrics = np.array([np.array(val_loss_means), np.array(val_loss_std)])\n",
    "\n",
    "        if (plot): #plots the results\n",
    "            plt.figure(figsize = (8,6))\n",
    "            plt.plot(train_metrics[0,:], label = 'train')\n",
    "            plt.plot(val_metrics[0,:], label = 'test')\n",
    "            plt.xlabel('Epoch')\n",
    "            plt.ylabel('Loss')\n",
    "            plt.title('Loss vs epochs')\n",
    "            plt.grid('on')\n",
    "            plt.legend(loc=1,prop={'size': 12})\n",
    "            plt.show()\n",
    "\n",
    "        return train_metrics, val_metrics"
   ]
  },
  {
   "cell_type": "code",
   "execution_count": 9,
   "metadata": {},
   "outputs": [
    {
     "name": "stdout",
     "output_type": "stream",
     "text": [
      "Network(\n",
      "  (conv1): Conv2d(1, 8, kernel_size=(4, 4), stride=(2, 2), padding=(1, 1))\n",
      "  (conv2): Conv2d(8, 16, kernel_size=(5, 5), stride=(2, 2))\n",
      "  (fc1): Linear(in_features=400, out_features=128, bias=True)\n",
      "  (out): Linear(in_features=128, out_features=10, bias=True)\n",
      "  (relu): ReLU()\n",
      "  (drop): Dropout(p=0.004, inplace=False)\n",
      ")\n"
     ]
    }
   ],
   "source": [
    "model = Network(8,0.004).to(device)\n",
    "print(model)"
   ]
  },
  {
   "cell_type": "markdown",
   "metadata": {},
   "source": [
    "Define Loss and optimizer"
   ]
  },
  {
   "cell_type": "code",
   "execution_count": 10,
   "metadata": {},
   "outputs": [],
   "source": [
    "fit_dict = {'device': device, \n",
    "            'optimizer': optim.Adam(model.parameters(),lr=0.002, weight_decay=0.0045) ,\n",
    "            'n_epochs': 60,\n",
    "            'device': 'cpu'\n",
    "            }\n",
    "\n",
    "loss_function = nn.CrossEntropyLoss()"
   ]
  },
  {
   "cell_type": "code",
   "execution_count": 306,
   "metadata": {},
   "outputs": [
    {
     "name": "stderr",
     "output_type": "stream",
     "text": [
      "\n",
      "\n",
      "  0%|                                                                                           | 0/60 [00:00<?, ?it/s]\u001b[A\u001b[A\n",
      "\n",
      "  2%|█▍                                                                                 | 1/60 [00:33<32:48, 33.37s/it]\u001b[A\u001b[A\n",
      "\n",
      "  3%|██▊                                                                                | 2/60 [01:01<30:41, 31.74s/it]\u001b[A\u001b[A\n",
      "\n",
      "  5%|████▏                                                                              | 3/60 [01:28<28:49, 30.34s/it]\u001b[A\u001b[A\n",
      "\n",
      "  7%|█████▌                                                                             | 4/60 [01:57<28:01, 30.03s/it]\u001b[A\u001b[A\n",
      "\n",
      "  8%|██████▉                                                                            | 5/60 [02:28<27:50, 30.38s/it]\u001b[A\u001b[A\n",
      "\n",
      " 10%|████████▎                                                                          | 6/60 [02:57<26:50, 29.83s/it]\u001b[A\u001b[A\n",
      "\n",
      " 12%|█████████▋                                                                         | 7/60 [03:29<26:49, 30.36s/it]\u001b[A\u001b[A\n",
      "\n",
      " 13%|███████████                                                                        | 8/60 [03:59<26:24, 30.47s/it]\u001b[A\u001b[A\n",
      "\n",
      " 15%|████████████▍                                                                      | 9/60 [04:28<25:23, 29.87s/it]\u001b[A\u001b[A\n",
      "\n",
      " 17%|█████████████▋                                                                    | 10/60 [04:56<24:25, 29.30s/it]\u001b[A\u001b[A\n",
      "\n",
      " 18%|███████████████                                                                   | 11/60 [05:26<24:16, 29.73s/it]\u001b[A\u001b[A\n",
      "\n",
      " 20%|████████████████▍                                                                 | 12/60 [05:54<23:13, 29.03s/it]\u001b[A\u001b[A\n",
      "\n",
      " 22%|█████████████████▊                                                                | 13/60 [06:26<23:27, 29.94s/it]\u001b[A\u001b[A\n",
      "\n",
      " 23%|███████████████████▏                                                              | 14/60 [06:54<22:25, 29.24s/it]\u001b[A\u001b[A\n",
      "\n",
      " 25%|████████████████████▌                                                             | 15/60 [07:22<21:49, 29.10s/it]\u001b[A\u001b[A\n",
      "\n",
      " 27%|█████████████████████▊                                                            | 16/60 [07:51<21:20, 29.10s/it]\u001b[A\u001b[A\n",
      "\n",
      " 28%|███████████████████████▏                                                          | 17/60 [08:27<22:21, 31.19s/it]\u001b[A\u001b[A\n",
      "\n",
      " 30%|████████████████████████▌                                                         | 18/60 [09:03<22:49, 32.62s/it]\u001b[A\u001b[A\n",
      "\n",
      " 32%|█████████████████████████▉                                                        | 19/60 [09:37<22:28, 32.88s/it]\u001b[A\u001b[A\n",
      "\n",
      " 33%|███████████████████████████▎                                                      | 20/60 [10:06<21:07, 31.69s/it]\u001b[A\u001b[A\n",
      "\n",
      " 35%|████████████████████████████▋                                                     | 21/60 [10:34<19:55, 30.65s/it]\u001b[A\u001b[A\n",
      "\n",
      " 37%|██████████████████████████████                                                    | 22/60 [11:01<18:48, 29.68s/it]\u001b[A\u001b[A\n",
      "\n",
      " 38%|███████████████████████████████▍                                                  | 23/60 [11:29<17:58, 29.15s/it]\u001b[A\u001b[A\n",
      "\n",
      " 40%|████████████████████████████████▊                                                 | 24/60 [11:58<17:20, 28.92s/it]\u001b[A\u001b[A\n",
      "\n",
      " 42%|██████████████████████████████████▏                                               | 25/60 [12:29<17:18, 29.68s/it]\u001b[A\u001b[A\n",
      "\n",
      " 43%|███████████████████████████████████▌                                              | 26/60 [12:55<16:09, 28.53s/it]\u001b[A\u001b[A\n",
      "\n",
      " 45%|████████████████████████████████████▉                                             | 27/60 [13:20<15:10, 27.60s/it]\u001b[A\u001b[A\n",
      "\n",
      " 47%|██████████████████████████████████████▎                                           | 28/60 [13:46<14:18, 26.84s/it]\u001b[A\u001b[A\n",
      "\n",
      " 48%|███████████████████████████████████████▋                                          | 29/60 [14:11<13:35, 26.30s/it]\u001b[A\u001b[A\n",
      "\n",
      " 50%|█████████████████████████████████████████                                         | 30/60 [14:36<12:58, 25.96s/it]\u001b[A\u001b[A\n",
      "\n",
      " 52%|██████████████████████████████████████████▎                                       | 31/60 [15:01<12:25, 25.72s/it]\u001b[A\u001b[A\n",
      "\n",
      " 53%|███████████████████████████████████████████▋                                      | 32/60 [15:26<11:56, 25.60s/it]\u001b[A\u001b[A\n",
      "\n",
      " 55%|█████████████████████████████████████████████                                     | 33/60 [15:52<11:29, 25.54s/it]\u001b[A\u001b[A\n",
      "\n",
      " 57%|██████████████████████████████████████████████▍                                   | 34/60 [16:17<11:01, 25.46s/it]\u001b[A\u001b[A\n",
      "\n",
      " 58%|███████████████████████████████████████████████▊                                  | 35/60 [16:43<10:39, 25.60s/it]\u001b[A\u001b[A\n",
      "\n",
      " 60%|█████████████████████████████████████████████████▏                                | 36/60 [17:08<10:14, 25.59s/it]\u001b[A\u001b[A\n",
      "\n",
      " 62%|██████████████████████████████████████████████████▌                               | 37/60 [17:33<09:43, 25.36s/it]\u001b[A\u001b[A\n",
      "\n",
      " 63%|███████████████████████████████████████████████████▉                              | 38/60 [18:03<09:48, 26.73s/it]\u001b[A\u001b[A\n",
      "\n",
      " 65%|█████████████████████████████████████████████████████▎                            | 39/60 [18:45<10:06, 28.87s/it]\u001b[A\u001b[A\n"
     ]
    },
    {
     "ename": "KeyboardInterrupt",
     "evalue": "",
     "output_type": "error",
     "traceback": [
      "\u001b[1;31m---------------------------------------------------------------------------\u001b[0m",
      "\u001b[1;31mKeyboardInterrupt\u001b[0m                         Traceback (most recent call last)",
      "\u001b[1;32m<ipython-input-306-76dbc083c468>\u001b[0m in \u001b[0;36m<module>\u001b[1;34m\u001b[0m\n\u001b[1;32m----> 1\u001b[1;33m model.fit(train_data = train_dataloader,\n\u001b[0m\u001b[0;32m      2\u001b[0m           \u001b[0mval_data\u001b[0m \u001b[1;33m=\u001b[0m \u001b[0mval_dataloader\u001b[0m\u001b[1;33m,\u001b[0m\u001b[1;33m\u001b[0m\u001b[1;33m\u001b[0m\u001b[0m\n\u001b[0;32m      3\u001b[0m           \u001b[0mparams_dict\u001b[0m \u001b[1;33m=\u001b[0m \u001b[0mfit_dict\u001b[0m\u001b[1;33m,\u001b[0m\u001b[1;33m\u001b[0m\u001b[1;33m\u001b[0m\u001b[0m\n\u001b[0;32m      4\u001b[0m           \u001b[0mloss_fn\u001b[0m \u001b[1;33m=\u001b[0m \u001b[0mloss_function\u001b[0m\u001b[1;33m,\u001b[0m\u001b[1;33m\u001b[0m\u001b[1;33m\u001b[0m\u001b[0m\n\u001b[0;32m      5\u001b[0m           plot = True)\n",
      "\u001b[1;32m<ipython-input-303-b0298d07d981>\u001b[0m in \u001b[0;36mfit\u001b[1;34m(self, train_data, val_data, params_dict, loss_fn, plot)\u001b[0m\n\u001b[0;32m    196\u001b[0m \u001b[1;33m\u001b[0m\u001b[0m\n\u001b[0;32m    197\u001b[0m         \u001b[1;32mfor\u001b[0m \u001b[0mepoch\u001b[0m \u001b[1;32min\u001b[0m \u001b[0mtqdm\u001b[0m\u001b[1;33m(\u001b[0m\u001b[0mrange\u001b[0m\u001b[1;33m(\u001b[0m\u001b[0mparams_dict\u001b[0m\u001b[1;33m.\u001b[0m\u001b[0mget\u001b[0m\u001b[1;33m(\u001b[0m\u001b[1;34m'n_epochs'\u001b[0m\u001b[1;33m)\u001b[0m\u001b[1;33m)\u001b[0m\u001b[1;33m)\u001b[0m\u001b[1;33m:\u001b[0m\u001b[1;33m\u001b[0m\u001b[1;33m\u001b[0m\u001b[0m\n\u001b[1;32m--> 198\u001b[1;33m             \u001b[0mloss_mean\u001b[0m\u001b[1;33m,\u001b[0m \u001b[0mloss_std\u001b[0m \u001b[1;33m=\u001b[0m  \u001b[0mself\u001b[0m\u001b[1;33m.\u001b[0m\u001b[0mtrain_epoch\u001b[0m\u001b[1;33m(\u001b[0m\u001b[0mtrain_data\u001b[0m\u001b[1;33m,\u001b[0m \u001b[0mloss_fn\u001b[0m\u001b[1;33m,\u001b[0m \u001b[0moptimizer\u001b[0m\u001b[1;33m,\u001b[0m \u001b[0mdevice\u001b[0m\u001b[1;33m)\u001b[0m\u001b[1;33m\u001b[0m\u001b[1;33m\u001b[0m\u001b[0m\n\u001b[0m\u001b[0;32m    199\u001b[0m             \u001b[0mtrain_loss_means\u001b[0m\u001b[1;33m.\u001b[0m\u001b[0mappend\u001b[0m\u001b[1;33m(\u001b[0m\u001b[0mloss_mean\u001b[0m\u001b[1;33m)\u001b[0m\u001b[1;33m\u001b[0m\u001b[1;33m\u001b[0m\u001b[0m\n\u001b[0;32m    200\u001b[0m             \u001b[0mtrain_loss_std\u001b[0m\u001b[1;33m.\u001b[0m\u001b[0mappend\u001b[0m\u001b[1;33m(\u001b[0m\u001b[0mloss_std\u001b[0m\u001b[1;33m)\u001b[0m\u001b[1;33m\u001b[0m\u001b[1;33m\u001b[0m\u001b[0m\n",
      "\u001b[1;32m<ipython-input-303-b0298d07d981>\u001b[0m in \u001b[0;36mtrain_epoch\u001b[1;34m(self, train_dataloader, loss_function, optimizer, device)\u001b[0m\n\u001b[0;32m     77\u001b[0m \u001b[1;33m\u001b[0m\u001b[0m\n\u001b[0;32m     78\u001b[0m             \u001b[1;31m# Update the weights\u001b[0m\u001b[1;33m\u001b[0m\u001b[1;33m\u001b[0m\u001b[1;33m\u001b[0m\u001b[0m\n\u001b[1;32m---> 79\u001b[1;33m             \u001b[0moptimizer\u001b[0m\u001b[1;33m.\u001b[0m\u001b[0mstep\u001b[0m\u001b[1;33m(\u001b[0m\u001b[1;33m)\u001b[0m\u001b[1;33m\u001b[0m\u001b[1;33m\u001b[0m\u001b[0m\n\u001b[0m\u001b[0;32m     80\u001b[0m \u001b[1;33m\u001b[0m\u001b[0m\n\u001b[0;32m     81\u001b[0m             \u001b[1;31m# Save train loss for this batch\u001b[0m\u001b[1;33m\u001b[0m\u001b[1;33m\u001b[0m\u001b[1;33m\u001b[0m\u001b[0m\n",
      "\u001b[1;32m~\\anaconda3\\lib\\site-packages\\torch\\optim\\lr_scheduler.py\u001b[0m in \u001b[0;36mwrapper\u001b[1;34m(*args, **kwargs)\u001b[0m\n\u001b[0;32m     63\u001b[0m                 \u001b[0minstance\u001b[0m\u001b[1;33m.\u001b[0m\u001b[0m_step_count\u001b[0m \u001b[1;33m+=\u001b[0m \u001b[1;36m1\u001b[0m\u001b[1;33m\u001b[0m\u001b[1;33m\u001b[0m\u001b[0m\n\u001b[0;32m     64\u001b[0m                 \u001b[0mwrapped\u001b[0m \u001b[1;33m=\u001b[0m \u001b[0mfunc\u001b[0m\u001b[1;33m.\u001b[0m\u001b[0m__get__\u001b[0m\u001b[1;33m(\u001b[0m\u001b[0minstance\u001b[0m\u001b[1;33m,\u001b[0m \u001b[0mcls\u001b[0m\u001b[1;33m)\u001b[0m\u001b[1;33m\u001b[0m\u001b[1;33m\u001b[0m\u001b[0m\n\u001b[1;32m---> 65\u001b[1;33m                 \u001b[1;32mreturn\u001b[0m \u001b[0mwrapped\u001b[0m\u001b[1;33m(\u001b[0m\u001b[1;33m*\u001b[0m\u001b[0margs\u001b[0m\u001b[1;33m,\u001b[0m \u001b[1;33m**\u001b[0m\u001b[0mkwargs\u001b[0m\u001b[1;33m)\u001b[0m\u001b[1;33m\u001b[0m\u001b[1;33m\u001b[0m\u001b[0m\n\u001b[0m\u001b[0;32m     66\u001b[0m \u001b[1;33m\u001b[0m\u001b[0m\n\u001b[0;32m     67\u001b[0m             \u001b[1;31m# Note that the returned function here is no longer a bound method,\u001b[0m\u001b[1;33m\u001b[0m\u001b[1;33m\u001b[0m\u001b[1;33m\u001b[0m\u001b[0m\n",
      "\u001b[1;32m~\\anaconda3\\lib\\site-packages\\torch\\optim\\optimizer.py\u001b[0m in \u001b[0;36mwrapper\u001b[1;34m(*args, **kwargs)\u001b[0m\n\u001b[0;32m     87\u001b[0m                 \u001b[0mprofile_name\u001b[0m \u001b[1;33m=\u001b[0m \u001b[1;34m\"Optimizer.step#{}.step\"\u001b[0m\u001b[1;33m.\u001b[0m\u001b[0mformat\u001b[0m\u001b[1;33m(\u001b[0m\u001b[0mobj\u001b[0m\u001b[1;33m.\u001b[0m\u001b[0m__class__\u001b[0m\u001b[1;33m.\u001b[0m\u001b[0m__name__\u001b[0m\u001b[1;33m)\u001b[0m\u001b[1;33m\u001b[0m\u001b[1;33m\u001b[0m\u001b[0m\n\u001b[0;32m     88\u001b[0m                 \u001b[1;32mwith\u001b[0m \u001b[0mtorch\u001b[0m\u001b[1;33m.\u001b[0m\u001b[0mautograd\u001b[0m\u001b[1;33m.\u001b[0m\u001b[0mprofiler\u001b[0m\u001b[1;33m.\u001b[0m\u001b[0mrecord_function\u001b[0m\u001b[1;33m(\u001b[0m\u001b[0mprofile_name\u001b[0m\u001b[1;33m)\u001b[0m\u001b[1;33m:\u001b[0m\u001b[1;33m\u001b[0m\u001b[1;33m\u001b[0m\u001b[0m\n\u001b[1;32m---> 89\u001b[1;33m                     \u001b[1;32mreturn\u001b[0m \u001b[0mfunc\u001b[0m\u001b[1;33m(\u001b[0m\u001b[1;33m*\u001b[0m\u001b[0margs\u001b[0m\u001b[1;33m,\u001b[0m \u001b[1;33m**\u001b[0m\u001b[0mkwargs\u001b[0m\u001b[1;33m)\u001b[0m\u001b[1;33m\u001b[0m\u001b[1;33m\u001b[0m\u001b[0m\n\u001b[0m\u001b[0;32m     90\u001b[0m             \u001b[1;32mreturn\u001b[0m \u001b[0mwrapper\u001b[0m\u001b[1;33m\u001b[0m\u001b[1;33m\u001b[0m\u001b[0m\n\u001b[0;32m     91\u001b[0m \u001b[1;33m\u001b[0m\u001b[0m\n",
      "\u001b[1;32m~\\anaconda3\\lib\\site-packages\\torch\\autograd\\grad_mode.py\u001b[0m in \u001b[0;36mdecorate_context\u001b[1;34m(*args, **kwargs)\u001b[0m\n\u001b[0;32m     25\u001b[0m         \u001b[1;32mdef\u001b[0m \u001b[0mdecorate_context\u001b[0m\u001b[1;33m(\u001b[0m\u001b[1;33m*\u001b[0m\u001b[0margs\u001b[0m\u001b[1;33m,\u001b[0m \u001b[1;33m**\u001b[0m\u001b[0mkwargs\u001b[0m\u001b[1;33m)\u001b[0m\u001b[1;33m:\u001b[0m\u001b[1;33m\u001b[0m\u001b[1;33m\u001b[0m\u001b[0m\n\u001b[0;32m     26\u001b[0m             \u001b[1;32mwith\u001b[0m \u001b[0mself\u001b[0m\u001b[1;33m.\u001b[0m\u001b[0m__class__\u001b[0m\u001b[1;33m(\u001b[0m\u001b[1;33m)\u001b[0m\u001b[1;33m:\u001b[0m\u001b[1;33m\u001b[0m\u001b[1;33m\u001b[0m\u001b[0m\n\u001b[1;32m---> 27\u001b[1;33m                 \u001b[1;32mreturn\u001b[0m \u001b[0mfunc\u001b[0m\u001b[1;33m(\u001b[0m\u001b[1;33m*\u001b[0m\u001b[0margs\u001b[0m\u001b[1;33m,\u001b[0m \u001b[1;33m**\u001b[0m\u001b[0mkwargs\u001b[0m\u001b[1;33m)\u001b[0m\u001b[1;33m\u001b[0m\u001b[1;33m\u001b[0m\u001b[0m\n\u001b[0m\u001b[0;32m     28\u001b[0m         \u001b[1;32mreturn\u001b[0m \u001b[0mcast\u001b[0m\u001b[1;33m(\u001b[0m\u001b[0mF\u001b[0m\u001b[1;33m,\u001b[0m \u001b[0mdecorate_context\u001b[0m\u001b[1;33m)\u001b[0m\u001b[1;33m\u001b[0m\u001b[1;33m\u001b[0m\u001b[0m\n\u001b[0;32m     29\u001b[0m \u001b[1;33m\u001b[0m\u001b[0m\n",
      "\u001b[1;32m~\\anaconda3\\lib\\site-packages\\torch\\optim\\adam.py\u001b[0m in \u001b[0;36mstep\u001b[1;34m(self, closure)\u001b[0m\n\u001b[0;32m    106\u001b[0m \u001b[1;33m\u001b[0m\u001b[0m\n\u001b[0;32m    107\u001b[0m             \u001b[0mbeta1\u001b[0m\u001b[1;33m,\u001b[0m \u001b[0mbeta2\u001b[0m \u001b[1;33m=\u001b[0m \u001b[0mgroup\u001b[0m\u001b[1;33m[\u001b[0m\u001b[1;34m'betas'\u001b[0m\u001b[1;33m]\u001b[0m\u001b[1;33m\u001b[0m\u001b[1;33m\u001b[0m\u001b[0m\n\u001b[1;32m--> 108\u001b[1;33m             F.adam(params_with_grad,\n\u001b[0m\u001b[0;32m    109\u001b[0m                    \u001b[0mgrads\u001b[0m\u001b[1;33m,\u001b[0m\u001b[1;33m\u001b[0m\u001b[1;33m\u001b[0m\u001b[0m\n\u001b[0;32m    110\u001b[0m                    \u001b[0mexp_avgs\u001b[0m\u001b[1;33m,\u001b[0m\u001b[1;33m\u001b[0m\u001b[1;33m\u001b[0m\u001b[0m\n",
      "\u001b[1;32m~\\anaconda3\\lib\\site-packages\\torch\\optim\\_functional.py\u001b[0m in \u001b[0;36madam\u001b[1;34m(params, grads, exp_avgs, exp_avg_sqs, max_exp_avg_sqs, state_steps, amsgrad, beta1, beta2, lr, weight_decay, eps)\u001b[0m\n\u001b[0;32m     79\u001b[0m \u001b[1;33m\u001b[0m\u001b[0m\n\u001b[0;32m     80\u001b[0m         \u001b[1;32mif\u001b[0m \u001b[0mweight_decay\u001b[0m \u001b[1;33m!=\u001b[0m \u001b[1;36m0\u001b[0m\u001b[1;33m:\u001b[0m\u001b[1;33m\u001b[0m\u001b[1;33m\u001b[0m\u001b[0m\n\u001b[1;32m---> 81\u001b[1;33m             \u001b[0mgrad\u001b[0m \u001b[1;33m=\u001b[0m \u001b[0mgrad\u001b[0m\u001b[1;33m.\u001b[0m\u001b[0madd\u001b[0m\u001b[1;33m(\u001b[0m\u001b[0mparam\u001b[0m\u001b[1;33m,\u001b[0m \u001b[0malpha\u001b[0m\u001b[1;33m=\u001b[0m\u001b[0mweight_decay\u001b[0m\u001b[1;33m)\u001b[0m\u001b[1;33m\u001b[0m\u001b[1;33m\u001b[0m\u001b[0m\n\u001b[0m\u001b[0;32m     82\u001b[0m \u001b[1;33m\u001b[0m\u001b[0m\n\u001b[0;32m     83\u001b[0m         \u001b[1;31m# Decay the first and second moment running average coefficient\u001b[0m\u001b[1;33m\u001b[0m\u001b[1;33m\u001b[0m\u001b[1;33m\u001b[0m\u001b[0m\n",
      "\u001b[1;31mKeyboardInterrupt\u001b[0m: "
     ]
    }
   ],
   "source": [
    "model.fit(train_data = train_dataloader,\n",
    "          val_data = val_dataloader,\n",
    "          params_dict = fit_dict,\n",
    "          loss_fn = loss_function,\n",
    "          plot = True)"
   ]
  },
  {
   "cell_type": "code",
   "execution_count": 252,
   "metadata": {},
   "outputs": [],
   "source": [
    "torch.save(model.state_dict(), 'classification_opt.pt')"
   ]
  },
  {
   "cell_type": "code",
   "execution_count": 11,
   "metadata": {},
   "outputs": [
    {
     "data": {
      "text/plain": [
       "Network(\n",
       "  (conv1): Conv2d(1, 16, kernel_size=(4, 4), stride=(2, 2), padding=(1, 1))\n",
       "  (conv2): Conv2d(16, 32, kernel_size=(5, 5), stride=(2, 2))\n",
       "  (fc1): Linear(in_features=800, out_features=128, bias=True)\n",
       "  (out): Linear(in_features=128, out_features=10, bias=True)\n",
       "  (relu): ReLU()\n",
       "  (drop): Dropout(p=0.004, inplace=False)\n",
       ")"
      ]
     },
     "execution_count": 11,
     "metadata": {},
     "output_type": "execute_result"
    }
   ],
   "source": [
    "model = Network(16,0.004).to(device)\n",
    "model.load_state_dict(torch.load('classification_16.pt',map_location=torch.device('cpu')))\n",
    "model.eval()"
   ]
  },
  {
   "cell_type": "markdown",
   "metadata": {},
   "source": [
    "## Accuracy results"
   ]
  },
  {
   "cell_type": "code",
   "execution_count": 17,
   "metadata": {},
   "outputs": [
    {
     "name": "stdout",
     "output_type": "stream",
     "text": [
      "Simple model without optimization accuracy is:  0.8463\n"
     ]
    }
   ],
   "source": [
    "####### NO OPtimization ###########\n",
    "\n",
    "print(\"Simple model without optimization accuracy is: \", model.test( test_dataloader, fit_dict ))"
   ]
  },
  {
   "cell_type": "code",
   "execution_count": 12,
   "metadata": {},
   "outputs": [
    {
     "name": "stdout",
     "output_type": "stream",
     "text": [
      "Simple model without optimization accuracy is:  0.8866\n"
     ]
    }
   ],
   "source": [
    "####### YES OPtimization ###########\n",
    "\n",
    "print(\"Simple model without optimization accuracy is: \", model.test( test_dataloader, fit_dict ))"
   ]
  },
  {
   "cell_type": "code",
   "execution_count": 13,
   "metadata": {},
   "outputs": [
    {
     "name": "stdout",
     "output_type": "stream",
     "text": [
      "\n",
      " Confusion matrix (normalized)\n"
     ]
    },
    {
     "data": {
      "image/png": "[encoded data removed]",
      "text/plain": [
       "<Figure size 648x432 with 2 Axes>"
      ]
     },
     "metadata": {
      "image/png": {
       "height": 357,
       "width": 496
      },
      "needs_background": "light"
     },
     "output_type": "display_data"
    }
   ],
   "source": [
    "y_pred = model.predict(test_dataloader,fit_dict.get('device'))\n",
    "y_true = np.array([x[1] for x in test_dataset])\n",
    "\n",
    "unique, counts = np.unique(y_true, return_counts=True)\n",
    "matrix = confusion_matrix( y_pred, y_true)\n",
    "\n",
    "\n",
    "print(\"\\n Confusion matrix (normalized)\")\n",
    "plt.figure(figsize = (9,6))\n",
    "sns.heatmap(matrix/counts[:,None], annot=True, fmt =  \"1.2f\" , cmap=\"Reds\" )\n",
    "plt.show()"
   ]
  },
  {
   "cell_type": "markdown",
   "metadata": {},
   "source": [
    "#### Incorrect predictions"
   ]
  },
  {
   "cell_type": "code",
   "execution_count": 14,
   "metadata": {},
   "outputs": [
    {
     "data": {
      "image/png": "[encoded data removed]",
      "text/plain": [
       "<Figure size 720x720 with 10 Axes>"
      ]
     },
     "metadata": {
      "image/png": {
       "height": 410,
       "width": 732
      }
     },
     "output_type": "display_data"
    }
   ],
   "source": [
    "error = np.where(y_pred != y_true)[0]\n",
    "error = error[0:10]\n",
    "\n",
    "fig = plt.figure(figsize = (10,10))\n",
    "k=0\n",
    "for i in error:\n",
    "    plt.subplot(3,5,k+1,)\n",
    "    plt.tight_layout()\n",
    "    plt.imshow(test_dataset[i][0].numpy().transpose(1, 2, 0), cmap='gray', interpolation='none')\n",
    "    plt.title(\"True: {} \\n Predicted: {}\".format(test_dataset[i][1],y_pred[i]))\n",
    "    plt.xticks([])\n",
    "    plt.yticks([])\n",
    "    plt.tight_layout(pad=.1)\n",
    "    k+=1"
   ]
  },
  {
   "cell_type": "markdown",
   "metadata": {},
   "source": [
    "#### Correct predictions"
   ]
  },
  {
   "cell_type": "code",
   "execution_count": 15,
   "metadata": {},
   "outputs": [
    {
     "data": {
      "image/png": "[encoded data removed]",
      "text/plain": [
       "<Figure size 720x720 with 10 Axes>"
      ]
     },
     "metadata": {
      "image/png": {
       "height": 410,
       "width": 732
      }
     },
     "output_type": "display_data"
    }
   ],
   "source": [
    "true = np.where(y_pred == y_true)[0]\n",
    "true = true[0:10]\n",
    "\n",
    "fig = plt.figure(figsize = (10,10))\n",
    "k=0\n",
    "for i in true:\n",
    "    plt.subplot(3,5,k+1,)\n",
    "    plt.tight_layout()\n",
    "    plt.imshow(test_dataset[i][0].numpy().transpose(1, 2, 0), cmap='gray', interpolation='none')\n",
    "    plt.title(\"True: {} \\n Predicted: {}\".format(test_dataset[i][1],y_pred[i]))\n",
    "    plt.xticks([])\n",
    "    plt.yticks([])\n",
    "    plt.tight_layout(pad=.1)\n",
    "    k+=1"
   ]
  },
  {
   "cell_type": "markdown",
   "metadata": {},
   "source": [
    "## Hyperparameter optimization"
   ]
  },
  {
   "cell_type": "code",
   "execution_count": 16,
   "metadata": {},
   "outputs": [],
   "source": [
    "def CV_random_set(train_set, valid_set, params_grid, iterations):\n",
    "    '''\n",
    "    This functions tries a given number of set of parameters, in order\n",
    "    to find the optimal set of parameters which reaches the least validation loss\n",
    "    Since data is few, the search is done after splitting the training data into\n",
    "    a certain number of folds (K-FOLD cross validation)\n",
    "    INPUTS:\n",
    "    - train_set   : training set dataloader\n",
    "    - valid_set   : validation set dataloader\n",
    "    - params_grid : a dictionary with the parameters one draws from\n",
    "    - iterations  : number of set of parameters to test\n",
    "\n",
    "    OUTPUT:\n",
    "    A dictionary containing: \n",
    "    - the set of parameters chosen\n",
    "    - training loss for every epoch\n",
    "    - validation loss for every epoch\n",
    "    '''\n",
    "\n",
    "    output_dict = {}\n",
    "    parameters_list     = []\n",
    "    train_loss_log      = []\n",
    "    validation_loss_log = []\n",
    "\n",
    "    #the loss remains the same due to the nature of the problem\n",
    "    loss = nn.CrossEntropyLoss()\n",
    "\n",
    "    for iterat in range(iterations):\n",
    "        print(\"\\n ################ MODEL\", iterat+1, \"/\", iterations, \"  ###########\")\n",
    "\n",
    "        #\"draw\" a model\n",
    "        actual_params = sample_set_params(params_grid)\n",
    "        parameters_list.append(actual_params)\n",
    "\n",
    "        n_channels = actual_params.get('n_channels')\n",
    "        drop = actual_params.get('drop')\n",
    "        optimizer = actual_params.get('optimizer')\n",
    "        learn_r = actual_params.get('learn_r')\n",
    "        weight_dec = actual_params.get('weight_dec')\n",
    "        device = actual_params.get('device')\n",
    "\n",
    "        #create new network with given parameters and reset weights\n",
    "        network = Network(n_channels=n_channels, drop=drop).to(device)\n",
    "        network.apply(reset_weights)\n",
    "\n",
    "        optimizer = get_correct_optimizer(network, actual_params)\n",
    "\n",
    "        #instantiate this dummy dict due to \"fit\" method implementation\n",
    "        dummy_dict = {'optimizer': optimizer, 'n_epochs': 40, 'device': device}\n",
    "        #do the job -> training and validation over a single fold\n",
    "        train_loss, val_loss = network.fit_early_stop(train_set, valid_set, dummy_dict, loss,\n",
    "                                                      early_stop_flag = True, patience = 2, verbose = False)\n",
    "                \n",
    "        #fold is an index that denotes the fold we are dealing with\n",
    "        train_loss_log.append(train_loss)\n",
    "        validation_loss_log.append(val_loss)\n",
    "        clear_output(wait=True)\n",
    "        del network \n",
    "\n",
    "\n",
    "    return  parameters_list, train_loss_log, validation_loss_log "
   ]
  },
  {
   "cell_type": "code",
   "execution_count": 71,
   "metadata": {},
   "outputs": [],
   "source": [
    "import torchmetrics\n",
    "\n",
    "class Network(pl.LightningModule):\n",
    "    def __init__(self, n_channels, drop):\n",
    "\n",
    "        super().__init__()\n",
    "        print('Network initialized')\n",
    "        self.model = nn.Sequential(\n",
    "                       nn.Conv2d(in_channels = 1,  out_channels = n_channels, kernel_size = 4, padding=1, stride = 2), \n",
    "                       nn.ReLU(), \n",
    "                       nn.Conv2d(in_channels = n_channels, out_channels = 2*n_channels, kernel_size=5, stride = 2),\n",
    "                       nn.ReLU(),\n",
    "                       nn.Flatten(),\n",
    "                       nn.Linear(2*n_channels*25, 100),\n",
    "                       nn.Dropout(p=drop),\n",
    "                       nn.Linear(100, 10),\n",
    "                       nn.Softmax(dim=1),\n",
    "        )\n",
    "        \n",
    "        self.val_loss = []\n",
    "        self.train_loss = []\n",
    "\n",
    "    # Forward step defines how the LightningModule behaves during inference/prediction.\n",
    "    def forward(self, x, additional_out=False):\n",
    "        return self.model(x)\n",
    "\n",
    "    # Training_step defines the training loop. \n",
    "    def training_step(self, batch, batch_idx=None):\n",
    "        # training_step defines the train loop. It is independent of forward\n",
    "        x_batch = batch[0]\n",
    "        label_batch = batch[1]\n",
    "        out = self.model(x_batch)\n",
    "        loss = F.cross_entropy(out, label_batch)\n",
    "        self.train_loss.append(loss)\n",
    "        self.log(\"val_loss\", loss.item())\n",
    "        return loss\n",
    "\n",
    "    def validation_step(self, batch, batch_idx):\n",
    "        x_batch = batch[0]\n",
    "        label_batch = batch[1]\n",
    "        out = self.model(x_batch)\n",
    "        loss = F.cross_entropy(out, label_batch)\n",
    "        self.val_loss.append(loss.item())\n",
    "        preds = torch.argmax(out, dim=1)\n",
    "        acc = torchmetrics.functional.accuracy(preds, label_batch)\n",
    "        # Calling self.log will surface up scalars for you in TensorBoard\n",
    "        self.log(\"val_loss\", loss, prog_bar=True)\n",
    "        self.log(\"val_acc\", acc, prog_bar=True)\n",
    "        return loss\n",
    "\n",
    "\n",
    "    def configure_optimizers(self):\n",
    "        optimizer = optim.Adam(self.model.parameters(), lr=1e-3)\n",
    "        scheduler = {\"scheduler\":  #scheduler for learning rate\n",
    "                     torch.optim.lr_scheduler.ReduceLROnPlateau(\n",
    "                        optimizer, patience=2, \n",
    "                        threshold=0.00003, \n",
    "                        mode='min', verbose=True),\n",
    "                    \"interval\": \"epoch\",\n",
    "                    \"monitor\": \"val_loss\"}\n",
    "        return [optimizer], [scheduler]\n"
   ]
  },
  {
   "cell_type": "markdown",
   "metadata": {},
   "source": [
    "For computational reasons the validation check is been performed $\\sim $ 2 times per epoch and the maximal number of epochs has been set to 10.\n",
    "\n",
    "- This cells has been run on Google Colab"
   ]
  },
  {
   "cell_type": "code",
   "execution_count": 72,
   "metadata": {},
   "outputs": [],
   "source": [
    "def objective(trial):\n",
    "\n",
    "    \n",
    "    # We optimize the number of hidden units in each layer.\n",
    "    n_channels = trial.suggest_categorical(\"n_channels\", [2, 4, 16, 32])\n",
    "    drop = trial.suggest_float(\"dropout\", 0., 0.4)   \n",
    "    optimizer_name = trial.suggest_categorical(\"optimizer\", [\"Adam\", \"SGD\"])\n",
    "    lr = trial.suggest_loguniform(\"lr\", 1e-5, 1e-2)\n",
    "    weight_norm = trial.suggest_loguniform('weigth_norm',1e-4, 1e0)\n",
    "    optimizer = getattr(optim, optimizer_name)(model.parameters(), lr=lr, weight_decay=weight_norm)\n",
    "\n",
    "    \n",
    "    for fold, (train_idx, valid_idx) in enumerate(kfold.split(train_dataset)):\n",
    "    train_loader = create_dataloader(train_dataset.iloc[train_idx])\n",
    "    valid_loader = create_dataloader(train_dataset.iloc[valid_idx])\n",
    "    \n",
    "    \n",
    "        net = Network(n_channels, drop).to(device)\n",
    "        early_stop = pl.callbacks.EarlyStopping('val_loss', patience=50)\n",
    "        trainer = pl.Trainer(gpus=0, max_epochs=10, val_check_interval=200, log_every_n_steps=1,callbacks=[early_stop])\n",
    "    \n",
    "\n",
    "        hyperparameters = dict(\n",
    "                           optimizer=optimizer_name,\n",
    "                           lr = lr,\n",
    "                           weight_norm=weight_norm,\n",
    "                           drop = drop,\n",
    "                           n_channels = n_channels)\n",
    "                            \n",
    "    \n",
    "        trainer.logger.log_hyperparams(hyperparameters)\n",
    "        trainer.fit(net, train_dataloader, val_dataloader)\n",
    "\n",
    "    return trainer.callback_metrics[\"val_loss\"].item()\n",
    "\n",
    "pruner: optuna.pruners.BasePruner = optuna.pruners.NopPruner()\n",
    "# print(pruner) <optuna.pruners._nop.NopPruner object at 0x7f4c2466ed50>\n",
    "# print(type(pruner)) <class 'optuna.pruners._nop.NopPruner'>"
   ]
  },
  {
   "cell_type": "markdown",
   "metadata": {},
   "source": [
    "This cell has been ran on Colab because of the intesity of the process"
   ]
  },
  {
   "cell_type": "code",
   "execution_count": 73,
   "metadata": {
    "scrolled": false
   },
   "outputs": [
    {
     "name": "stderr",
     "output_type": "stream",
     "text": [
      "\u001b[32m[I 2021-11-13 14:04:44,145]\u001b[0m A new study created in memory with name: myfirstoptimizationstudy\u001b[0m\n",
      "GPU available: False, used: False\n",
      "TPU available: False, using: 0 TPU cores\n",
      "IPU available: False, using: 0 IPUs\n",
      "\n",
      "  | Name  | Type       | Params\n",
      "-------------------------------------\n",
      "0 | model | Sequential | 22.0 K\n",
      "-------------------------------------\n",
      "22.0 K    Trainable params\n",
      "0         Non-trainable params\n",
      "22.0 K    Total params\n",
      "0.088     Total estimated model params size (MB)\n"
     ]
    },
    {
     "name": "stdout",
     "output_type": "stream",
     "text": [
      "Network initialized\n"
     ]
    },
    {
     "data": {
      "application/vnd.jupyter.widget-view+json": {
       "model_id": "",
       "version_major": 2,
       "version_minor": 0
      },
      "text/plain": [
       "HBox(children=(HTML(value='Validation sanity check'), FloatProgress(value=1.0, bar_style='info', layout=Layout…"
      ]
     },
     "metadata": {},
     "output_type": "display_data"
    },
    {
     "name": "stderr",
     "output_type": "stream",
     "text": [
      "C:\\Users\\filip\\anaconda3\\lib\\site-packages\\pytorch_lightning\\trainer\\data_loading.py:110: UserWarning: The dataloader, val_dataloader 0, does not have many workers which may be a bottleneck. Consider increasing the value of the `num_workers` argument` (try 4 which is the number of cpus on this machine) in the `DataLoader` init to improve performance.\n",
      "  rank_zero_warn(\n",
      "C:\\Users\\filip\\anaconda3\\lib\\site-packages\\pytorch_lightning\\trainer\\data_loading.py:110: UserWarning: The dataloader, train_dataloader, does not have many workers which may be a bottleneck. Consider increasing the value of the `num_workers` argument` (try 4 which is the number of cpus on this machine) in the `DataLoader` init to improve performance.\n",
      "  rank_zero_warn(\n"
     ]
    },
    {
     "data": {
      "application/vnd.jupyter.widget-view+json": {
       "model_id": "4c191b171b3e4bf68b93ac6587db64f1",
       "version_major": 2,
       "version_minor": 0
      },
      "text/plain": [
       "HBox(children=(HTML(value='Training'), FloatProgress(value=1.0, bar_style='info', layout=Layout(flex='2'), max…"
      ]
     },
     "metadata": {},
     "output_type": "display_data"
    },
    {
     "data": {
      "application/vnd.jupyter.widget-view+json": {
       "model_id": "",
       "version_major": 2,
       "version_minor": 0
      },
      "text/plain": [
       "HBox(children=(HTML(value='Validating'), FloatProgress(value=1.0, bar_style='info', layout=Layout(flex='2'), m…"
      ]
     },
     "metadata": {},
     "output_type": "display_data"
    },
    {
     "data": {
      "application/vnd.jupyter.widget-view+json": {
       "model_id": "",
       "version_major": 2,
       "version_minor": 0
      },
      "text/plain": [
       "HBox(children=(HTML(value='Validating'), FloatProgress(value=1.0, bar_style='info', layout=Layout(flex='2'), m…"
      ]
     },
     "metadata": {},
     "output_type": "display_data"
    },
    {
     "data": {
      "application/vnd.jupyter.widget-view+json": {
       "model_id": "",
       "version_major": 2,
       "version_minor": 0
      },
      "text/plain": [
       "HBox(children=(HTML(value='Validating'), FloatProgress(value=1.0, bar_style='info', layout=Layout(flex='2'), m…"
      ]
     },
     "metadata": {},
     "output_type": "display_data"
    },
    {
     "data": {
      "application/vnd.jupyter.widget-view+json": {
       "model_id": "",
       "version_major": 2,
       "version_minor": 0
      },
      "text/plain": [
       "HBox(children=(HTML(value='Validating'), FloatProgress(value=1.0, bar_style='info', layout=Layout(flex='2'), m…"
      ]
     },
     "metadata": {},
     "output_type": "display_data"
    },
    {
     "data": {
      "application/vnd.jupyter.widget-view+json": {
       "model_id": "",
       "version_major": 2,
       "version_minor": 0
      },
      "text/plain": [
       "HBox(children=(HTML(value='Validating'), FloatProgress(value=1.0, bar_style='info', layout=Layout(flex='2'), m…"
      ]
     },
     "metadata": {},
     "output_type": "display_data"
    },
    {
     "data": {
      "application/vnd.jupyter.widget-view+json": {
       "model_id": "",
       "version_major": 2,
       "version_minor": 0
      },
      "text/plain": [
       "HBox(children=(HTML(value='Validating'), FloatProgress(value=1.0, bar_style='info', layout=Layout(flex='2'), m…"
      ]
     },
     "metadata": {},
     "output_type": "display_data"
    },
    {
     "data": {
      "application/vnd.jupyter.widget-view+json": {
       "model_id": "",
       "version_major": 2,
       "version_minor": 0
      },
      "text/plain": [
       "HBox(children=(HTML(value='Validating'), FloatProgress(value=1.0, bar_style='info', layout=Layout(flex='2'), m…"
      ]
     },
     "metadata": {},
     "output_type": "display_data"
    },
    {
     "data": {
      "application/vnd.jupyter.widget-view+json": {
       "model_id": "",
       "version_major": 2,
       "version_minor": 0
      },
      "text/plain": [
       "HBox(children=(HTML(value='Validating'), FloatProgress(value=1.0, bar_style='info', layout=Layout(flex='2'), m…"
      ]
     },
     "metadata": {},
     "output_type": "display_data"
    },
    {
     "data": {
      "application/vnd.jupyter.widget-view+json": {
       "model_id": "",
       "version_major": 2,
       "version_minor": 0
      },
      "text/plain": [
       "HBox(children=(HTML(value='Validating'), FloatProgress(value=1.0, bar_style='info', layout=Layout(flex='2'), m…"
      ]
     },
     "metadata": {},
     "output_type": "display_data"
    },
    {
     "data": {
      "application/vnd.jupyter.widget-view+json": {
       "model_id": "",
       "version_major": 2,
       "version_minor": 0
      },
      "text/plain": [
       "HBox(children=(HTML(value='Validating'), FloatProgress(value=1.0, bar_style='info', layout=Layout(flex='2'), m…"
      ]
     },
     "metadata": {},
     "output_type": "display_data"
    },
    {
     "data": {
      "application/vnd.jupyter.widget-view+json": {
       "model_id": "",
       "version_major": 2,
       "version_minor": 0
      },
      "text/plain": [
       "HBox(children=(HTML(value='Validating'), FloatProgress(value=1.0, bar_style='info', layout=Layout(flex='2'), m…"
      ]
     },
     "metadata": {},
     "output_type": "display_data"
    },
    {
     "data": {
      "application/vnd.jupyter.widget-view+json": {
       "model_id": "",
       "version_major": 2,
       "version_minor": 0
      },
      "text/plain": [
       "HBox(children=(HTML(value='Validating'), FloatProgress(value=1.0, bar_style='info', layout=Layout(flex='2'), m…"
      ]
     },
     "metadata": {},
     "output_type": "display_data"
    },
    {
     "data": {
      "application/vnd.jupyter.widget-view+json": {
       "model_id": "",
       "version_major": 2,
       "version_minor": 0
      },
      "text/plain": [
       "HBox(children=(HTML(value='Validating'), FloatProgress(value=1.0, bar_style='info', layout=Layout(flex='2'), m…"
      ]
     },
     "metadata": {},
     "output_type": "display_data"
    },
    {
     "data": {
      "application/vnd.jupyter.widget-view+json": {
       "model_id": "",
       "version_major": 2,
       "version_minor": 0
      },
      "text/plain": [
       "HBox(children=(HTML(value='Validating'), FloatProgress(value=1.0, bar_style='info', layout=Layout(flex='2'), m…"
      ]
     },
     "metadata": {},
     "output_type": "display_data"
    },
    {
     "data": {
      "application/vnd.jupyter.widget-view+json": {
       "model_id": "",
       "version_major": 2,
       "version_minor": 0
      },
      "text/plain": [
       "HBox(children=(HTML(value='Validating'), FloatProgress(value=1.0, bar_style='info', layout=Layout(flex='2'), m…"
      ]
     },
     "metadata": {},
     "output_type": "display_data"
    },
    {
     "data": {
      "application/vnd.jupyter.widget-view+json": {
       "model_id": "",
       "version_major": 2,
       "version_minor": 0
      },
      "text/plain": [
       "HBox(children=(HTML(value='Validating'), FloatProgress(value=1.0, bar_style='info', layout=Layout(flex='2'), m…"
      ]
     },
     "metadata": {},
     "output_type": "display_data"
    },
    {
     "data": {
      "application/vnd.jupyter.widget-view+json": {
       "model_id": "",
       "version_major": 2,
       "version_minor": 0
      },
      "text/plain": [
       "HBox(children=(HTML(value='Validating'), FloatProgress(value=1.0, bar_style='info', layout=Layout(flex='2'), m…"
      ]
     },
     "metadata": {},
     "output_type": "display_data"
    },
    {
     "data": {
      "application/vnd.jupyter.widget-view+json": {
       "model_id": "",
       "version_major": 2,
       "version_minor": 0
      },
      "text/plain": [
       "HBox(children=(HTML(value='Validating'), FloatProgress(value=1.0, bar_style='info', layout=Layout(flex='2'), m…"
      ]
     },
     "metadata": {},
     "output_type": "display_data"
    },
    {
     "data": {
      "application/vnd.jupyter.widget-view+json": {
       "model_id": "",
       "version_major": 2,
       "version_minor": 0
      },
      "text/plain": [
       "HBox(children=(HTML(value='Validating'), FloatProgress(value=1.0, bar_style='info', layout=Layout(flex='2'), m…"
      ]
     },
     "metadata": {},
     "output_type": "display_data"
    },
    {
     "data": {
      "application/vnd.jupyter.widget-view+json": {
       "model_id": "",
       "version_major": 2,
       "version_minor": 0
      },
      "text/plain": [
       "HBox(children=(HTML(value='Validating'), FloatProgress(value=1.0, bar_style='info', layout=Layout(flex='2'), m…"
      ]
     },
     "metadata": {},
     "output_type": "display_data"
    },
    {
     "data": {
      "application/vnd.jupyter.widget-view+json": {
       "model_id": "",
       "version_major": 2,
       "version_minor": 0
      },
      "text/plain": [
       "HBox(children=(HTML(value='Validating'), FloatProgress(value=1.0, bar_style='info', layout=Layout(flex='2'), m…"
      ]
     },
     "metadata": {},
     "output_type": "display_data"
    },
    {
     "data": {
      "application/vnd.jupyter.widget-view+json": {
       "model_id": "",
       "version_major": 2,
       "version_minor": 0
      },
      "text/plain": [
       "HBox(children=(HTML(value='Validating'), FloatProgress(value=1.0, bar_style='info', layout=Layout(flex='2'), m…"
      ]
     },
     "metadata": {},
     "output_type": "display_data"
    },
    {
     "data": {
      "application/vnd.jupyter.widget-view+json": {
       "model_id": "",
       "version_major": 2,
       "version_minor": 0
      },
      "text/plain": [
       "HBox(children=(HTML(value='Validating'), FloatProgress(value=1.0, bar_style='info', layout=Layout(flex='2'), m…"
      ]
     },
     "metadata": {},
     "output_type": "display_data"
    },
    {
     "data": {
      "application/vnd.jupyter.widget-view+json": {
       "model_id": "",
       "version_major": 2,
       "version_minor": 0
      },
      "text/plain": [
       "HBox(children=(HTML(value='Validating'), FloatProgress(value=1.0, bar_style='info', layout=Layout(flex='2'), m…"
      ]
     },
     "metadata": {},
     "output_type": "display_data"
    },
    {
     "data": {
      "application/vnd.jupyter.widget-view+json": {
       "model_id": "",
       "version_major": 2,
       "version_minor": 0
      },
      "text/plain": [
       "HBox(children=(HTML(value='Validating'), FloatProgress(value=1.0, bar_style='info', layout=Layout(flex='2'), m…"
      ]
     },
     "metadata": {},
     "output_type": "display_data"
    },
    {
     "data": {
      "application/vnd.jupyter.widget-view+json": {
       "model_id": "",
       "version_major": 2,
       "version_minor": 0
      },
      "text/plain": [
       "HBox(children=(HTML(value='Validating'), FloatProgress(value=1.0, bar_style='info', layout=Layout(flex='2'), m…"
      ]
     },
     "metadata": {},
     "output_type": "display_data"
    },
    {
     "data": {
      "application/vnd.jupyter.widget-view+json": {
       "model_id": "",
       "version_major": 2,
       "version_minor": 0
      },
      "text/plain": [
       "HBox(children=(HTML(value='Validating'), FloatProgress(value=1.0, bar_style='info', layout=Layout(flex='2'), m…"
      ]
     },
     "metadata": {},
     "output_type": "display_data"
    },
    {
     "data": {
      "application/vnd.jupyter.widget-view+json": {
       "model_id": "",
       "version_major": 2,
       "version_minor": 0
      },
      "text/plain": [
       "HBox(children=(HTML(value='Validating'), FloatProgress(value=1.0, bar_style='info', layout=Layout(flex='2'), m…"
      ]
     },
     "metadata": {},
     "output_type": "display_data"
    },
    {
     "data": {
      "application/vnd.jupyter.widget-view+json": {
       "model_id": "",
       "version_major": 2,
       "version_minor": 0
      },
      "text/plain": [
       "HBox(children=(HTML(value='Validating'), FloatProgress(value=1.0, bar_style='info', layout=Layout(flex='2'), m…"
      ]
     },
     "metadata": {},
     "output_type": "display_data"
    },
    {
     "data": {
      "application/vnd.jupyter.widget-view+json": {
       "model_id": "",
       "version_major": 2,
       "version_minor": 0
      },
      "text/plain": [
       "HBox(children=(HTML(value='Validating'), FloatProgress(value=1.0, bar_style='info', layout=Layout(flex='2'), m…"
      ]
     },
     "metadata": {},
     "output_type": "display_data"
    },
    {
     "data": {
      "application/vnd.jupyter.widget-view+json": {
       "model_id": "",
       "version_major": 2,
       "version_minor": 0
      },
      "text/plain": [
       "HBox(children=(HTML(value='Validating'), FloatProgress(value=1.0, bar_style='info', layout=Layout(flex='2'), m…"
      ]
     },
     "metadata": {},
     "output_type": "display_data"
    },
    {
     "data": {
      "application/vnd.jupyter.widget-view+json": {
       "model_id": "",
       "version_major": 2,
       "version_minor": 0
      },
      "text/plain": [
       "HBox(children=(HTML(value='Validating'), FloatProgress(value=1.0, bar_style='info', layout=Layout(flex='2'), m…"
      ]
     },
     "metadata": {},
     "output_type": "display_data"
    },
    {
     "data": {
      "application/vnd.jupyter.widget-view+json": {
       "model_id": "",
       "version_major": 2,
       "version_minor": 0
      },
      "text/plain": [
       "HBox(children=(HTML(value='Validating'), FloatProgress(value=1.0, bar_style='info', layout=Layout(flex='2'), m…"
      ]
     },
     "metadata": {},
     "output_type": "display_data"
    },
    {
     "data": {
      "application/vnd.jupyter.widget-view+json": {
       "model_id": "",
       "version_major": 2,
       "version_minor": 0
      },
      "text/plain": [
       "HBox(children=(HTML(value='Validating'), FloatProgress(value=1.0, bar_style='info', layout=Layout(flex='2'), m…"
      ]
     },
     "metadata": {},
     "output_type": "display_data"
    },
    {
     "data": {
      "application/vnd.jupyter.widget-view+json": {
       "model_id": "",
       "version_major": 2,
       "version_minor": 0
      },
      "text/plain": [
       "HBox(children=(HTML(value='Validating'), FloatProgress(value=1.0, bar_style='info', layout=Layout(flex='2'), m…"
      ]
     },
     "metadata": {},
     "output_type": "display_data"
    },
    {
     "data": {
      "application/vnd.jupyter.widget-view+json": {
       "model_id": "",
       "version_major": 2,
       "version_minor": 0
      },
      "text/plain": [
       "HBox(children=(HTML(value='Validating'), FloatProgress(value=1.0, bar_style='info', layout=Layout(flex='2'), m…"
      ]
     },
     "metadata": {},
     "output_type": "display_data"
    },
    {
     "data": {
      "application/vnd.jupyter.widget-view+json": {
       "model_id": "",
       "version_major": 2,
       "version_minor": 0
      },
      "text/plain": [
       "HBox(children=(HTML(value='Validating'), FloatProgress(value=1.0, bar_style='info', layout=Layout(flex='2'), m…"
      ]
     },
     "metadata": {},
     "output_type": "display_data"
    },
    {
     "data": {
      "application/vnd.jupyter.widget-view+json": {
       "model_id": "",
       "version_major": 2,
       "version_minor": 0
      },
      "text/plain": [
       "HBox(children=(HTML(value='Validating'), FloatProgress(value=1.0, bar_style='info', layout=Layout(flex='2'), m…"
      ]
     },
     "metadata": {},
     "output_type": "display_data"
    },
    {
     "data": {
      "application/vnd.jupyter.widget-view+json": {
       "model_id": "",
       "version_major": 2,
       "version_minor": 0
      },
      "text/plain": [
       "HBox(children=(HTML(value='Validating'), FloatProgress(value=1.0, bar_style='info', layout=Layout(flex='2'), m…"
      ]
     },
     "metadata": {},
     "output_type": "display_data"
    },
    {
     "data": {
      "application/vnd.jupyter.widget-view+json": {
       "model_id": "",
       "version_major": 2,
       "version_minor": 0
      },
      "text/plain": [
       "HBox(children=(HTML(value='Validating'), FloatProgress(value=1.0, bar_style='info', layout=Layout(flex='2'), m…"
      ]
     },
     "metadata": {},
     "output_type": "display_data"
    },
    {
     "name": "stderr",
     "output_type": "stream",
     "text": [
      "\u001b[32m[I 2021-11-13 14:14:46,160]\u001b[0m Trial 0 finished with value: 1.5931037664413452 and parameters: {'n_channels': 4, 'dropout': 0.21659922300261672, 'optimizer': 'Adam', 'lr': 0.00013300719670837426, 'weigth_norm': 0.020446406380062204}. Best is trial 0 with value: 1.5931037664413452.\u001b[0m\n"
     ]
    },
    {
     "name": "stdout",
     "output_type": "stream",
     "text": [
      "\n"
     ]
    }
   ],
   "source": [
    "study = optuna.create_study(study_name=\"myfirstoptimizationstudy\", direction=\"minimize\", pruner=pruner)\n",
    "study.optimize(objective, n_trials=2, timeout=300)"
   ]
  },
  {
   "cell_type": "markdown",
   "metadata": {},
   "source": [
    "This cell may not be the real best optimal parameters, due to the fact that for computational reasons even on Colab is quite difficult to train this dataset with the optuna library"
   ]
  },
  {
   "cell_type": "code",
   "execution_count": 74,
   "metadata": {},
   "outputs": [
    {
     "name": "stdout",
     "output_type": "stream",
     "text": [
      "Number of finished trials: 1\n",
      "Best trial:\n",
      "  Value: 1.5931037664413452\n",
      "  Params: \n",
      "    n_channels: 4\n",
      "    dropout: 0.21659922300261672\n",
      "    optimizer: Adam\n",
      "    lr: 0.00013300719670837426\n",
      "    weigth_norm: 0.020446406380062204\n"
     ]
    }
   ],
   "source": [
    "print(\"Number of finished trials: {}\".format(len(study.trials)))\n",
    "\n",
    "print(\"Best trial:\")\n",
    "trial = study.best_trial\n",
    "\n",
    "print(\"  Value: {}\".format(trial.value))\n",
    "\n",
    "print(\"  Params: \")\n",
    "for key, value in trial.params.items():\n",
    "    print(\"    {}: {}\".format(key, value))"
   ]
  },
  {
   "cell_type": "markdown",
   "metadata": {},
   "source": [
    "## Inspecting weights & activations"
   ]
  },
  {
   "cell_type": "code",
   "execution_count": 34,
   "metadata": {},
   "outputs": [
    {
     "name": "stdout",
     "output_type": "stream",
     "text": [
      "Total number of parameters: 116922\n"
     ]
    }
   ],
   "source": [
    "model = Network(n_channels=16, dropout=0.).to(device)\n",
    "def count_parameters(model):\n",
    "    return sum(p.numel() for p in model.parameters() if p.requires_grad)\n",
    "print('Total number of parameters:',count_parameters(model))"
   ]
  },
  {
   "cell_type": "code",
   "execution_count": 35,
   "metadata": {},
   "outputs": [
    {
     "data": {
      "text/plain": [
       "Network(\n",
       "  (conv1): Conv2d(1, 16, kernel_size=(4, 4), stride=(2, 2), padding=(1, 1))\n",
       "  (conv2): Conv2d(16, 32, kernel_size=(5, 5), stride=(2, 2))\n",
       "  (fc1): Linear(in_features=800, out_features=128, bias=True)\n",
       "  (out): Linear(in_features=128, out_features=10, bias=True)\n",
       "  (relu): ReLU()\n",
       "  (drop): Dropout(p=0.004, inplace=False)\n",
       ")"
      ]
     },
     "execution_count": 35,
     "metadata": {},
     "output_type": "execute_result"
    }
   ],
   "source": [
    "model = Network(16,0.004).to(device)\n",
    "model.load_state_dict(torch.load('classification_16.pt',map_location=torch.device('cpu')))\n",
    "model.eval()"
   ]
  },
  {
   "cell_type": "code",
   "execution_count": 47,
   "metadata": {},
   "outputs": [
    {
     "data": {
      "image/png": "[encoded data removed]",
      "text/plain": [
       "<Figure size 864x576 with 2 Axes>"
      ]
     },
     "metadata": {
      "image/png": {
       "height": 567,
       "width": 856
      },
      "needs_background": "light"
     },
     "output_type": "display_data"
    }
   ],
   "source": [
    "# First hidden layer\n",
    "h1_w = model.conv1.weight.data.cpu().numpy()\n",
    "h1_bias   = model.conv1.bias.data.cpu().numpy()\n",
    "\n",
    "# Second hidden layer\n",
    "out_w = model.out.weight.data.cpu().numpy()\n",
    "out_bias   = model.out.bias.data.cpu().numpy()\n",
    "\n",
    "\n",
    "# Weights histogram\n",
    "fig, axs = plt.subplots(2, 1, figsize=(12,8))\n",
    "axs[0].hist(h1_w.flatten(), 50)\n",
    "axs[0].set_title('First Conv layer weights')\n",
    "axs[1].hist(out_w.flatten(), 50)\n",
    "axs[1].set_title('Output Linear layer weights')\n",
    "axs[1].set_xlim([-1, 1])\n",
    "[ax.grid() for ax in axs]\n",
    "plt.tight_layout()\n",
    "plt.show()"
   ]
  },
  {
   "cell_type": "code",
   "execution_count": 38,
   "metadata": {},
   "outputs": [],
   "source": [
    "def get_activation(layer, input, output):\n",
    "    global activation\n",
    "    activation = torch.relu(output)"
   ]
  },
  {
   "cell_type": "code",
   "execution_count": 39,
   "metadata": {},
   "outputs": [],
   "source": [
    "# First hidden layer\n",
    "conv1_weights = model.conv1.weight.data.cpu().numpy()\n",
    "conv2_weights = model.conv2.weight.data.cpu().numpy()"
   ]
  },
  {
   "cell_type": "code",
   "execution_count": 40,
   "metadata": {},
   "outputs": [
    {
     "data": {
      "image/png": "[encoded data removed]",
      "text/plain": [
       "<Figure size 1296x216 with 16 Axes>"
      ]
     },
     "metadata": {
      "image/png": {
       "height": 147,
       "width": 1022
      }
     },
     "output_type": "display_data"
    }
   ],
   "source": [
    "fig, ax = plt.subplots(1,16, figsize=(18, 3))\n",
    "\n",
    "for i in range(16):\n",
    "    ax[i].imshow( conv1_weights[i, 0, :, :], cmap='Greys')\n",
    "    ax[i].set_xticks([])\n",
    "    ax[i].set_yticks([])\n",
    "    \n",
    "fig.suptitle('Filters - Conv1 ', fontsize = 12)\n",
    "plt.savefig('filters_CL1_1.png')\n",
    "plt.show()"
   ]
  },
  {
   "cell_type": "code",
   "execution_count": 41,
   "metadata": {},
   "outputs": [
    {
     "data": {
      "image/png": "[encoded data removed]",
      "text/plain": [
       "<Figure size 1152x504 with 32 Axes>"
      ]
     },
     "metadata": {
      "image/png": {
       "height": 448,
       "width": 898
      }
     },
     "output_type": "display_data"
    }
   ],
   "source": [
    "fig, ax = plt.subplots(4, 8, figsize=(16, 7))\n",
    "\n",
    "for i in range(4):\n",
    "    for j in range(8):\n",
    "        ax[i,j].imshow( conv2_weights[j, i, :,:], cmap='Greys')\n",
    "        ax[i,j].set_xticks([])\n",
    "        ax[i,j].set_yticks([])\n",
    "    \n",
    "fig.suptitle('Filters - Conv2 ', fontsize = 12)\n",
    "plt.savefig('filters_CL1_2.png')\n",
    "plt.show()"
   ]
  },
  {
   "cell_type": "code",
   "execution_count": 42,
   "metadata": {},
   "outputs": [],
   "source": [
    "def get_activation(layer, input, output):\n",
    "    global activation\n",
    "    activation = torch.relu(output)"
   ]
  },
  {
   "cell_type": "code",
   "execution_count": 43,
   "metadata": {},
   "outputs": [],
   "source": [
    "### Register hook  \n",
    "hook_handle1 = model.conv1.register_forward_hook(get_activation)\n",
    "\n",
    "#load a single image\n",
    "image_test = torch.utils.data.DataLoader(test_dataset, batch_size = 1, shuffle = True)\n",
    "\n",
    "### Analyze activations\n",
    "model.to(device).eval()\n",
    "\n",
    "with torch.no_grad():\n",
    "    for s_batch in image_test:\n",
    "        #save this image to be used later\n",
    "        my_image = s_batch\n",
    "        # Move data to device\n",
    "        x_first = my_image[0].to(device)\n",
    "        # Forward pass\n",
    "        y_first = model(x_first)\n",
    "        z_first = activation\n",
    "        break\n",
    "\n",
    "first_conv_layer_act = z_first.cpu().numpy()\n",
    "### Remove hook\n",
    "hook_handle1.remove()"
   ]
  },
  {
   "cell_type": "code",
   "execution_count": 44,
   "metadata": {},
   "outputs": [
    {
     "data": {
      "image/png": "[encoded data removed]",
      "text/plain": [
       "<Figure size 720x720 with 16 Axes>"
      ]
     },
     "metadata": {
      "image/png": {
       "height": 459,
       "width": 712
      }
     },
     "output_type": "display_data"
    }
   ],
   "source": [
    "## Plot the activations\n",
    "fig, ax = plt.subplots(2,8, figsize=(10,10))\n",
    "for i in range(16):\n",
    "    ax[i%2, i//2].imshow( first_conv_layer_act[0, i, :, :], cmap='Greys')\n",
    "    ax[i%2, i//2].set_xticks([])\n",
    "    ax[i%2, i//2].set_yticks([])\n",
    "    \n",
    "    \n",
    "fig.suptitle('Activations - 1 Convolutional layer', fontsize = 12)    \n",
    "plt.tight_layout()\n",
    "plt.subplots_adjust(wspace=0.1, hspace=-.85)\n",
    "plt.savefig('Conv1.png')\n",
    "plt.show()   "
   ]
  },
  {
   "cell_type": "code",
   "execution_count": 46,
   "metadata": {},
   "outputs": [
    {
     "name": "stdout",
     "output_type": "stream",
     "text": [
      "The true label of this sample is: 6\n"
     ]
    },
    {
     "data": {
      "image/png": "[encoded data removed]",
      "text/plain": [
       "<Figure size 864x576 with 1 Axes>"
      ]
     },
     "metadata": {
      "image/png": {
       "height": 567,
       "width": 856
      },
      "needs_background": "light"
     },
     "output_type": "display_data"
    }
   ],
   "source": [
    "### Register hook  \n",
    "hook_handle_fin = model.out.register_forward_hook(get_activation)\n",
    "\n",
    "with torch.no_grad():\n",
    "    for s_batch in image_test:\n",
    "        # Move data to device\n",
    "        x_fin = s_batch[0].to(device)\n",
    "        # Forward pass\n",
    "        y_fin = model(x_fin)\n",
    "        z_fin = activation\n",
    "\n",
    "print(\"The true label of this sample is:\", int(s_batch[1][0].numpy()))\n",
    "final_layer_act = z_fin.cpu().numpy()\n",
    "### Remove hook\n",
    "hook_handle_fin.remove()\n",
    "\n",
    "\n",
    "\n",
    "### Plot activations\n",
    "fig, axs = plt.subplots(1, 1, figsize=(12,8))\n",
    "axs.stem(final_layer_act[0,:], use_line_collection=True)\n",
    "axs.set_title('Output layer activation for input x=%.2f' % int(s_batch[1][0].numpy()))\n",
    "\n",
    "plt.tight_layout()\n",
    "plt.show()"
   ]
  }
 ],
 "metadata": {
  "kernelspec": {
   "display_name": "Python 3",
   "language": "python",
   "name": "python3"
  },
  "language_info": {
   "codemirror_mode": {
    "name": "ipython",
    "version": 3
   },
   "file_extension": ".py",
   "mimetype": "text/x-python",
   "name": "python",
   "nbconvert_exporter": "python",
   "pygments_lexer": "ipython3",
   "version": "3.8.5"
  }
 },
 "nbformat": 4,
 "nbformat_minor": 4
}
